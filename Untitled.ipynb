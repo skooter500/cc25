{
 "cells": [
  {
   "cell_type": "code",
   "execution_count": 8,
   "id": "cf5f3869-492b-4126-8194-f66ce0b6087f",
   "metadata": {},
   "outputs": [],
   "source": [
    "import py5\n",
    "\n",
    "def setup():\n",
    "    py5.size(200, 200)\n",
    "    py5.rect_mode(py5.CENTER)\n",
    "\n",
    "def draw():\n",
    "    py5.rect(py5.mouse_x, py5.mouse_y, 10, 10)\n",
    "\n",
    "py5.run_sketch()"
   ]
  },
  {
   "cell_type": "code",
   "execution_count": null,
   "id": "534387c2",
   "metadata": {},
   "outputs": [],
   "source": []
  },
  {
   "cell_type": "code",
   "execution_count": 9,
   "id": "125c5c5c-0d08-40b6-9b51-3a114682853d",
   "metadata": {},
   "outputs": [
    {
     "name": "stdout",
     "output_type": "stream",
     "text": [
      "py5 is available!\n",
      "Available functions: ['ADD', 'ALPHA', 'ALT', 'AMBIENT', 'ARC', 'ARGB', 'ARGS_BGCOLOR', 'ARGS_DISABLE_AWT', 'ARGS_DISPLAY', 'ARGS_EDITOR_LOCATION', 'ARGS_EXTERNAL', 'ARGS_FULL_SCREEN', 'ARGS_HIDE_STOP', 'ARGS_LOCATION', 'ARGS_PRESENT', 'ARGS_SKETCH_FOLDER', 'ARGS_STOP_COLOR', 'ARGS_UI_SCALE', 'ARGS_WINDOW_COLOR', 'ARROW', 'BACKSPACE', 'BASELINE', 'BEVEL', 'BEZIER_VERTEX', 'BICUBIC', 'BILINEAR', 'BLEND', 'BLUR', 'BOTTOM', 'BOX', 'BREAK', 'BURN', 'CENTER', 'CHORD', 'CLAMP', 'CLOSE', 'CMAP', 'CODED', 'CONTROL', 'CORNER', 'CORNERS', 'CROSS', 'CURVE_VERTEX', 'DARKEST', 'DEG_TO_RAD', 'DELETE', 'DIAMETER', 'DIFFERENCE', 'DILATE', 'DIRECTIONAL', 'DISABLE_ASYNC_SAVEFRAME', 'DISABLE_BUFFER_READING', 'DISABLE_DEPTH_MASK', 'DISABLE_DEPTH_SORT', 'DISABLE_DEPTH_TEST', 'DISABLE_KEY_REPEAT', 'DISABLE_NATIVE_FONTS', 'DISABLE_OPENGL_ERRORS', 'DISABLE_OPTIMIZED_STROKE', 'DISABLE_STROKE_PERSPECTIVE', 'DISABLE_STROKE_PURE', 'DISABLE_TEXTURE_MIPMAPS', 'DODGE', 'DOWN', 'DXF', 'ELLIPSE', 'ENABLE_ASYNC_SAVEFRAME', 'ENABLE_BUFFER_READING', 'ENABLE_DEPTH_MASK', 'ENABLE_DEPTH_SORT', 'ENABLE_DEPTH_TEST', 'ENABLE_KEY_REPEAT', 'ENABLE_NATIVE_FONTS', 'ENABLE_OPENGL_ERRORS', 'ENABLE_OPTIMIZED_STROKE', 'ENABLE_STROKE_PERSPECTIVE', 'ENABLE_STROKE_PURE', 'ENABLE_TEXTURE_MIPMAPS', 'ENTER', 'EPSILON', 'ERODE', 'ESC', 'EXCLUSION', 'EXTERNAL_MOVE', 'EXTERNAL_STOP', 'FX2D', 'GRAY', 'GROUP', 'HALF_PI', 'HAND', 'HARD_LIGHT', 'HIDDEN', 'HSB', 'IMAGE', 'INVERT', 'JAVA2D', 'JClass', 'LEFT', 'LIGHTEST', 'LINE', 'LINES', 'LINE_LOOP', 'LINE_STRIP', 'MAX_FLOAT', 'MAX_INT', 'MIN_FLOAT', 'MIN_INT', 'MITER', 'MODEL', 'MOVE', 'MULTIPLY', 'NEAREST_NEIGHBOR', 'NORMAL', 'NumpyImageArray', 'OPAQUE', 'OPEN', 'OPENGL', 'OVERLAY', 'P2D', 'P3D', 'PATH', 'PDF', 'PI', 'PIE', 'POINT', 'POINTS', 'POLYGON', 'POSTERIZE', 'PROJECT', 'Py5Color', 'Py5Font', 'Py5Graphics', 'Py5Image', 'Py5KeyEvent', 'Py5MouseEvent', 'Py5Shader', 'Py5Shape', 'Py5Surface', 'Py5Vector', 'Py5Vector2D', 'Py5Vector3D', 'Py5Vector4D', 'QUAD', 'QUADRATIC_VERTEX', 'QUADS', 'QUAD_BEZIER_VERTEX', 'QUAD_STRIP', 'QUARTER_PI', 'RADIUS', 'RAD_TO_DEG', 'RECT', 'REPEAT', 'REPLACE', 'RETURN', 'RGB', 'RIGHT', 'ROUND', 'SCREEN', 'SHAPE', 'SHIFT', 'SOFT_LIGHT', 'SPAN', 'SPHERE', 'SPOT', 'SQUARE', 'SUBTRACT', 'SVG', 'Sketch', 'TAB', 'TAU', 'TEXT', 'THIRD_PI', 'THRESHOLD', 'TOP', 'TRIANGLE', 'TRIANGLES', 'TRIANGLE_FAN', 'TRIANGLE_STRIP', 'TWO_PI', 'UP', 'VERTEX', 'WAIT', 'WHITESPACE', 'acos', 'alpha', 'ambient', 'ambient_light', 'apply_filter', 'apply_matrix', 'arc', 'asin', 'atan', 'atan2', 'background', 'begin_camera', 'begin_closed_shape', 'begin_contour', 'begin_raw', 'begin_record', 'begin_shape', 'bezier', 'bezier_detail', 'bezier_point', 'bezier_tangent', 'bezier_vertex', 'bezier_vertices', 'blend', 'blend_mode', 'blue', 'box', 'brightness', 'camera', 'ceil', 'circle', 'clear', 'clip', 'color', 'color_mode', 'constrain', 'convert_cached_image', 'convert_cached_shape', 'convert_image', 'convert_shape', 'copy', 'cos', 'create_font', 'create_font_file', 'create_graphics', 'create_image', 'create_image_from_numpy', 'create_shape', 'css4_colors', 'cursor', 'curve', 'curve_detail', 'curve_point', 'curve_tangent', 'curve_tightness', 'curve_vertex', 'curve_vertices', 'day', 'degrees', 'directional_light', 'display_density', 'display_height', 'display_width', 'dist', 'ellipse', 'ellipse_mode', 'emissive', 'end_camera', 'end_contour', 'end_raw', 'end_record', 'end_shape', 'exit_sketch', 'exp', 'fill', 'finished', 'floor', 'flush', 'focused', 'frame_count', 'frame_rate', 'frustum', 'full_screen', 'get_current_sketch', 'get_frame_rate', 'get_graphics', 'get_matrix', 'get_np_pixels', 'get_pixels', 'get_surface', 'green', 'has_thread', 'height', 'hex_color', 'hint', 'hot_reload_draw', 'hour', 'hue', 'image', 'image_mode', 'intercept_escape', 'is_dead', 'is_dead_from_error', 'is_key_pressed', 'is_mouse_pressed', 'is_ready', 'is_running', 'java_platform', 'java_version_name', 'join_thread', 'key', 'key_code', 'launch_promise_thread', 'launch_repeating_thread', 'launch_thread', 'lerp', 'lerp_color', 'light_falloff', 'light_specular', 'lights', 'line', 'lines', 'list_threads', 'load_bytes', 'load_font', 'load_image', 'load_json', 'load_np_pixels', 'load_pickle', 'load_pixels', 'load_shader', 'load_shape', 'load_strings', 'log', 'loop', 'mag', 'millis', 'minute', 'model_x', 'model_y', 'model_z', 'month', 'mouse_button', 'mouse_x', 'mouse_y', 'mpl_cmaps', 'no_clip', 'no_cursor', 'no_fill', 'no_lights', 'no_loop', 'no_smooth', 'no_stroke', 'no_tint', 'noise', 'noise_detail', 'noise_seed', 'norm', 'normal', 'np_pixels', 'np_random', 'ortho', 'os_noise', 'os_noise_seed', 'pargs', 'parse_json', 'perspective', 'pixel_density', 'pixel_height', 'pixel_width', 'pixels', 'pmouse_x', 'pmouse_y', 'point', 'point_light', 'points', 'pop', 'pop_matrix', 'pop_style', 'print_camera', 'print_line_profiler_stats', 'print_matrix', 'print_projection', 'println', 'profile_draw', 'profile_functions', 'prune_tracebacks', 'push', 'push_matrix', 'push_style', 'quad', 'quadratic_vertex', 'quadratic_vertices', 'radians', 'random', 'random_choice', 'random_gaussian', 'random_int', 'random_permutation', 'random_sample', 'random_seed', 'ratio_left', 'ratio_scale', 'ratio_top', 'rect', 'rect_mode', 'red', 'redraw', 'register_exception_msg', 'register_image_conversion', 'register_shape_conversion', 'remap', 'render', 'render_frame', 'render_frame_sequence', 'render_sequence', 'request_image', 'reset_matrix', 'reset_py5', 'reset_shader', 'rheight', 'rmouse_x', 'rmouse_y', 'rotate', 'rotate_x', 'rotate_y', 'rotate_z', 'run_sketch', 'rwidth', 'saturation', 'save', 'save_bytes', 'save_frame', 'save_json', 'save_pickle', 'save_strings', 'scale', 'screen_x', 'screen_y', 'screen_z', 'second', 'select_folder', 'select_input', 'select_output', 'set_matrix', 'set_np_pixels', 'set_pixels', 'set_println_stream', 'set_stackprinter_style', 'shader', 'shape', 'shape_mode', 'shear_x', 'shear_y', 'shininess', 'sin', 'size', 'sketch_path', 'smooth', 'specular', 'sphere', 'sphere_detail', 'spot_light', 'sq', 'sqrt', 'square', 'stop_all_threads', 'stop_thread', 'stroke', 'stroke_cap', 'stroke_join', 'stroke_weight', 'tan', 'text', 'text_align', 'text_ascent', 'text_descent', 'text_font', 'text_leading', 'text_mode', 'text_size', 'text_width', 'texture', 'texture_mode', 'texture_wrap', 'tint', 'to_pil', 'translate', 'triangle', 'update_np_pixels', 'update_pixels', 'utils', 'vertex', 'vertices', 'width', 'window_move', 'window_ratio', 'window_resizable', 'window_resize', 'window_title', 'window_x', 'window_y', 'xkcd_colors', 'year']\n"
     ]
    }
   ],
   "source": [
    "try:\n",
    "    import py5\n",
    "    print(\"py5 is available!\")\n",
    "    print(\"Available functions:\", [attr for attr in dir(py5) if not attr.startswith('_')])\n",
    "except ImportError:\n",
    "    print(\"py5 is not installed\")\n",
    "    print(\"Let's try p5py instead...\")\n",
    "    try:\n",
    "        from p5 import *\n",
    "        print(\"p5py is available!\")\n",
    "    except ImportError:\n",
    "        print(\"p5py is also not available\")\n",
    "        print(\"We need to install a graphics library\")"
   ]
  }
 ],
 "metadata": {
  "kernelspec": {
   "display_name": "ccvenv",
   "language": "python",
   "name": "python3"
  },
  "language_info": {
   "codemirror_mode": {
    "name": "ipython",
    "version": 3
   },
   "file_extension": ".py",
   "mimetype": "text/x-python",
   "name": "python",
   "nbconvert_exporter": "python",
   "pygments_lexer": "ipython3",
   "version": "3.12.3"
  }
 },
 "nbformat": 4,
 "nbformat_minor": 5
}
